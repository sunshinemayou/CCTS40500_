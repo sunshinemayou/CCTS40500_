{
 "cells": [
  {
   "cell_type": "markdown",
   "metadata": {},
   "source": [
    "# Midterm Winter 2020 CCTS 40500\n",
    "---\n",
    "\n",
    "###  data\n",
    "```\n",
    "    CCTS40500_/hwdata/LINCS/expression_level5_phase2_landmark.txt\n",
    "    Metadata: CCTS40500_/hwdata/LINCS/metadata/*txt\n",
    "```"
   ]
  },
  {
   "cell_type": "code",
   "execution_count": 4,
   "metadata": {},
   "outputs": [],
   "source": [
    "#sites:\n",
    "sites=['skin' 'lung' 'bone' 'stomach' 'breast' 'large intestine' 'ovary'\n",
    " 'kidney' 'endometrium' 'liver' 'haematopoietic and lymphoid tissue'\n",
    " 'vascular system' 'prostate' 'autonomic ganglia' 'blood' 'pancreas'\n",
    "  'central nervous system' 'adipose' 'muscle']\n",
    "\n",
    "#subtypes:\n",
    "subtypes=['malignant melanoma' 'non small cell lung cancer| carcinoma'\n",
    " \"ewing's sarcoma\" 'adenocarcinoma' 'carcinoma'\n",
    " 'colorectal adenocarcinoma'\n",
    " 'non small cell lung cancer| large cell carcinoma'\n",
    " 'carcinoma| epithelial-mucinous'\n",
    " 'non small cell lung cancer| adenocarcinoma'\n",
    " 'mucinous papillary adenocarcinoma' 'normal kidney'\n",
    " 'non small cell lung cancer| squamous cell carcinoma'\n",
    " 'colorectal carcinoma' 'endometrial adenocarcinoma' 'embryonal kidney'\n",
    " 'epithelial' 'hepatocellular carcinoma'\n",
    " 'acute myelogenous leukemia (AML)| M3 (promyelocytic)' '-666'\n",
    " 'bone marrow' 'normal endothelial cell|umbilical cord'\n",
    " 'endometrial adenocarcinoma| endometrioid carcinoma'\n",
    " 'acute lymphoblastic leukemia (ALL)| T-cell' 'carcinoma| prostate'\n",
    " 'skin fibroblast' 'small cell lung cancer| carcinoma'\n",
    " 'non small cell lung cancer| adenosquamous carcinoma' 'kidney epithelial'\n",
    " 'acute myeloid leukemia (AML)'\n",
    " 'acute myelogenous leukemia| promyelocytic' 'carcinoma| clear cell'\n",
    " 'neuroblastoma' 'acute myelogenous leukemia| M5 (monocytic)'\n",
    " 'carcinoma| undifferentiated' 'myeloman, haematopoietic,lymphoid'\n",
    " 'osteosarcoma' \"lymphoma| B-cell| non-hodgkin's| histiocytic\"\n",
    " \"lymphoma| B-cell| non-hodgkin's| diffuse large cell\"\n",
    " 'pancreatic carcinoma' 'normal stem fibroblast-derived iPScs'\n",
    " 'normal primary adipocyte stem cells' 'normal primary liver' 'myoblast'\n",
    " 'normal primary skeletal muscle cells']\n"
   ]
  },
  {
   "cell_type": "markdown",
   "metadata": {},
   "source": [
    "\n",
    "\n",
    "# Questions to be answered:\n",
    "\n",
    "1. Can we look at expression data, and understand: 1) site, 2) cancer subtype\n",
    "2. Which subtypes are hardest to separate, given tissues\n",
    "3. How is normal expression different from anomalous expression (there are normal celllines)\n",
    "4. which tools are the most useful? \n",
    "\n",
    "\n",
    "\n"
   ]
  },
  {
   "cell_type": "code",
   "execution_count": null,
   "metadata": {},
   "outputs": [],
   "source": []
  }
 ],
 "metadata": {
  "kernelspec": {
   "display_name": "Python 3",
   "language": "python",
   "name": "python3"
  },
  "language_info": {
   "codemirror_mode": {
    "name": "ipython",
    "version": 3
   },
   "file_extension": ".py",
   "mimetype": "text/x-python",
   "name": "python",
   "nbconvert_exporter": "python",
   "pygments_lexer": "ipython3",
   "version": "3.7.1"
  }
 },
 "nbformat": 4,
 "nbformat_minor": 2
}
